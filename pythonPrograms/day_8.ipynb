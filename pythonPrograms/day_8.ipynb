{
 "cells": [
  {
   "cell_type": "markdown",
   "id": "0066347a-c209-45c4-86cf-316b344d0bc9",
   "metadata": {},
   "source": [
    "1. Find the Largest Alphabetically Ordered Substring"
   ]
  },
  {
   "cell_type": "code",
   "execution_count": 1,
   "id": "51f25ecc-7f99-4a1c-ba15-b74e0cd8d43e",
   "metadata": {},
   "outputs": [
    {
     "name": "stdin",
     "output_type": "stream",
     "text": [
      "Enter a string:  Mango\n"
     ]
    },
    {
     "name": "stdout",
     "output_type": "stream",
     "text": [
      "Largest ordered substring: Man\n"
     ]
    }
   ],
   "source": [
    "text = input(\"Enter a string: \")\n",
    "longest = current = text[0]\n",
    "\n",
    "for i in range(1, len(text)):\n",
    "    if text[i] >= text[i - 1]:  \n",
    "        current += text[i]\n",
    "    else:\n",
    "        current = text[i]\n",
    "\n",
    "    if len(current) > len(longest):\n",
    "        longest = current\n",
    "\n",
    "print(\"Largest ordered substring:\", longest)\n"
   ]
  },
  {
   "cell_type": "markdown",
   "id": "b75893bd-8b64-49b4-8da5-5e4abd442e9b",
   "metadata": {},
   "source": [
    "2. Find the Next Palindrome Greater Than a Given Number"
   ]
  },
  {
   "cell_type": "code",
   "execution_count": 3,
   "id": "136031c3-664f-454a-8da9-849040b2613b",
   "metadata": {},
   "outputs": [
    {
     "name": "stdin",
     "output_type": "stream",
     "text": [
      "enter a number:  131\n"
     ]
    },
    {
     "name": "stdout",
     "output_type": "stream",
     "text": [
      "Next palindrome: 141\n"
     ]
    }
   ],
   "source": [
    "num = int(input(\"enter a number: \"))\n",
    "\n",
    "while True:\n",
    "    num+=1\n",
    "    temp = num \n",
    "    rev = 0\n",
    "    while temp>0:\n",
    "        digit= temp%10\n",
    "        rev = rev*10+digit\n",
    "        temp = temp // 10\n",
    "    if rev == num:\n",
    "        print(\"Next palindrome:\", num)\n",
    "        break"
   ]
  },
  {
   "cell_type": "markdown",
   "id": "e9c7711f-ce70-4f6e-9007-f644b3445450",
   "metadata": {},
   "source": [
    "3. Hide a Secret Word Inside Another Sentence (Basic Steganography)"
   ]
  },
  {
   "cell_type": "code",
   "execution_count": 4,
   "id": "236d4a8c-63e3-4335-8830-35dc4a824627",
   "metadata": {},
   "outputs": [
    {
     "name": "stdin",
     "output_type": "stream",
     "text": [
      "Enter the secret word:  joker\n",
      "Enter the cover sentence:  joker is playing\n"
     ]
    },
    {
     "name": "stdout",
     "output_type": "stream",
     "text": [
      "Secret too long for cover!\n"
     ]
    }
   ],
   "source": [
    "secret = input(\"Enter the secret word: \")\n",
    "cover = input(\"Enter the cover sentence: \").split()\n",
    "\n",
    "if len(secret) > len(cover):\n",
    "    print(\"Secret too long for cover!\")\n",
    "else:\n",
    "    result = []\n",
    "    for i in range(len(secret)):\n",
    "        result.append(cover[i] + secret[i])\n",
    "    result += cover[len(secret):]\n",
    "    print(\"Stego sentence:\", ' '.join(result))"
   ]
  },
  {
   "cell_type": "markdown",
   "id": "6e99a8f3-8f79-4576-a99e-592256f990a9",
   "metadata": {},
   "source": [
    "4.  Guess the Number Game (with hints)"
   ]
  },
  {
   "cell_type": "code",
   "execution_count": 5,
   "id": "4e0cc1fc-8a85-485b-93ec-fe60d7177dd0",
   "metadata": {},
   "outputs": [
    {
     "name": "stdin",
     "output_type": "stream",
     "text": [
      "Guess the number (1-100):  55\n"
     ]
    },
    {
     "name": "stdout",
     "output_type": "stream",
     "text": [
      "Too low!\n"
     ]
    },
    {
     "name": "stdin",
     "output_type": "stream",
     "text": [
      "Guess the number (1-100):  22\n"
     ]
    },
    {
     "name": "stdout",
     "output_type": "stream",
     "text": [
      "Too low!\n"
     ]
    },
    {
     "name": "stdin",
     "output_type": "stream",
     "text": [
      "Guess the number (1-100):  12\n"
     ]
    },
    {
     "name": "stdout",
     "output_type": "stream",
     "text": [
      "Too low!\n"
     ]
    },
    {
     "name": "stdin",
     "output_type": "stream",
     "text": [
      "Guess the number (1-100):  65\n"
     ]
    },
    {
     "name": "stdout",
     "output_type": "stream",
     "text": [
      "Too high!\n"
     ]
    },
    {
     "name": "stdin",
     "output_type": "stream",
     "text": [
      "Guess the number (1-100):  60\n"
     ]
    },
    {
     "name": "stdout",
     "output_type": "stream",
     "text": [
      "Too high!\n"
     ]
    },
    {
     "name": "stdin",
     "output_type": "stream",
     "text": [
      "Guess the number (1-100):  57\n"
     ]
    },
    {
     "name": "stdout",
     "output_type": "stream",
     "text": [
      "Too low!\n"
     ]
    },
    {
     "name": "stdin",
     "output_type": "stream",
     "text": [
      "Guess the number (1-100):  58\n"
     ]
    },
    {
     "name": "stdout",
     "output_type": "stream",
     "text": [
      "You got it!\n"
     ]
    }
   ],
   "source": [
    "import random\n",
    "number = random.randint(1, 100)\n",
    "guess = 0\n",
    "\n",
    "while guess != number:\n",
    "    guess = int(input(\"Guess the number (1-100): \"))\n",
    "    if guess < number:\n",
    "        print(\"Too low!\")\n",
    "    elif guess > number:\n",
    "        print(\"Too high!\")\n",
    "print(\"You got it!\")"
   ]
  },
  {
   "cell_type": "markdown",
   "id": "a23d2b36-28ed-4cb2-985c-b8b5f3810383",
   "metadata": {},
   "source": [
    "5.  Display the Day of the Week for a Given Date\n",
    "\n"
   ]
  },
  {
   "cell_type": "code",
   "execution_count": 6,
   "id": "15fc2393-6c38-4562-923c-b257e1fd3e9c",
   "metadata": {},
   "outputs": [
    {
     "name": "stdin",
     "output_type": "stream",
     "text": [
      "Enter date (YYYY-MM-DD):  2002-11-21\n"
     ]
    },
    {
     "name": "stdout",
     "output_type": "stream",
     "text": [
      "That day was a Thursday\n"
     ]
    }
   ],
   "source": [
    "import datetime\n",
    "\n",
    "date_input = input(\"Enter date (YYYY-MM-DD): \")\n",
    "year, month, day = map(int, date_input.split('-'))\n",
    "day_name = datetime.date(year, month, day).strftime(\"%A\")\n",
    "\n",
    "print(\"That day was a\", day_name)"
   ]
  },
  {
   "cell_type": "code",
   "execution_count": null,
   "id": "bc034452-8ae8-454f-9b91-6e70662f7068",
   "metadata": {},
   "outputs": [],
   "source": []
  }
 ],
 "metadata": {
  "kernelspec": {
   "display_name": "Python 3 (ipykernel)",
   "language": "python",
   "name": "python3"
  },
  "language_info": {
   "codemirror_mode": {
    "name": "ipython",
    "version": 3
   },
   "file_extension": ".py",
   "mimetype": "text/x-python",
   "name": "python",
   "nbconvert_exporter": "python",
   "pygments_lexer": "ipython3",
   "version": "3.11.7"
  }
 },
 "nbformat": 4,
 "nbformat_minor": 5
}
