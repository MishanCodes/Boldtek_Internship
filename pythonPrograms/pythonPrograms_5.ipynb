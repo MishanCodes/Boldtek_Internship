{
 "cells": [
  {
   "cell_type": "markdown",
   "id": "829e6c43-b1b3-44a8-9028-b059a5b2eccb",
   "metadata": {},
   "source": [
    "1.Count the Frequency of Each Character in a String\n"
   ]
  },
  {
   "cell_type": "code",
   "execution_count": 4,
   "id": "33ad9560-52b4-4267-802f-dfba313f5a4d",
   "metadata": {},
   "outputs": [
    {
     "name": "stdin",
     "output_type": "stream",
     "text": [
      "enter a string Hi there\n"
     ]
    },
    {
     "name": "stdout",
     "output_type": "stream",
     "text": [
      "{'h': 2, 'i': 1, ' ': 1, 't': 1, 'e': 2, 'r': 1}\n"
     ]
    }
   ],
   "source": [
    "text  = input(\"enter a string\").lower()\n",
    "freq = {}\n",
    "for char in text:\n",
    "   if char in freq:\n",
    "       freq[char] +=1\n",
    "   else:\n",
    "       freq[char] = 1\n",
    "print(freq)"
   ]
  },
  {
   "cell_type": "markdown",
   "id": "e34a9e6f-b9bc-4392-9f29-160733565bb1",
   "metadata": {},
   "source": [
    "2. Find the First Non-Repeating Character in a String"
   ]
  },
  {
   "cell_type": "code",
   "execution_count": 8,
   "id": "1572fa4f-8e42-4725-957f-bc99e89fa686",
   "metadata": {},
   "outputs": [
    {
     "name": "stdin",
     "output_type": "stream",
     "text": [
      "enter a string mishanraj\n"
     ]
    },
    {
     "name": "stdout",
     "output_type": "stream",
     "text": [
      "first non repeating character:  m\n"
     ]
    }
   ],
   "source": [
    "text = input(\"enter a string\").lower()\n",
    "for char in text : \n",
    "    if text.count(char)==1:\n",
    "        print(\"first non repeating character: \", char)\n",
    "        break\n",
    "        \n",
    "else: \n",
    "    print(\"No non repeating character found.\")"
   ]
  },
  {
   "cell_type": "markdown",
   "id": "a7bfa8a5-99c9-4efe-94ff-8cfd08a458a9",
   "metadata": {},
   "source": [
    "3.Find the Sum of Digits of a Number Until It Becomes a Single Digit\n"
   ]
  },
  {
   "cell_type": "code",
   "execution_count": 11,
   "id": "26766f92-6767-4b7d-afc3-64d5dac08f04",
   "metadata": {},
   "outputs": [
    {
     "name": "stdin",
     "output_type": "stream",
     "text": [
      "Enter the number:  987\n"
     ]
    },
    {
     "name": "stdout",
     "output_type": "stream",
     "text": [
      "Single-digit sum is: 6\n"
     ]
    }
   ],
   "source": [
    "number = int(input(\"Enter the number: \"))\n",
    "\n",
    "while number >= 10:  \n",
    "    sum_digits = 0\n",
    "    for num in str(number):  \n",
    "        sum_digits += int(num)  \n",
    "    number = sum_digits  \n",
    "\n",
    "print(\"Single-digit sum is:\", number)\n"
   ]
  },
  {
   "cell_type": "markdown",
   "id": "14ad757a-d348-4250-ac1e-977b524f1001",
   "metadata": {},
   "source": [
    "4.Convert a Sentence to Title Case (First Letter Capital in Each Word)"
   ]
  },
  {
   "cell_type": "code",
   "execution_count": 12,
   "id": "4b257a47-a79b-41fc-92ae-508385aa4ca0",
   "metadata": {},
   "outputs": [
    {
     "name": "stdin",
     "output_type": "stream",
     "text": [
      "Enter a sentence:  hi there\n"
     ]
    },
    {
     "name": "stdout",
     "output_type": "stream",
     "text": [
      "Title Case: Hi There\n"
     ]
    }
   ],
   "source": [
    "text = input(\"Enter a sentence: \")\n",
    "print(\"Title Case:\", text.title())\n"
   ]
  },
  {
   "cell_type": "markdown",
   "id": "1036dd34-90af-4b88-b9f6-914b3a4c2610",
   "metadata": {},
   "source": [
    "5. Convert Decimal to Binary"
   ]
  },
  {
   "cell_type": "code",
   "execution_count": 13,
   "id": "96f24c1f-8c10-4feb-9f79-87b9c94e3df0",
   "metadata": {},
   "outputs": [
    {
     "name": "stdin",
     "output_type": "stream",
     "text": [
      "enter the number:  23\n"
     ]
    },
    {
     "name": "stdout",
     "output_type": "stream",
     "text": [
      "binary is:  10111\n"
     ]
    }
   ],
   "source": [
    "num = int(input(\"enter the number: \"))\n",
    "binary=\"\"\n",
    "\n",
    "while num>0:\n",
    "    binary = str(num%2)+binary\n",
    "    num//=2\n",
    "print(\"binary is: \",binary)"
   ]
  },
  {
   "cell_type": "code",
   "execution_count": null,
   "id": "827fb599-32b9-4882-93bd-0d3f738a3493",
   "metadata": {},
   "outputs": [],
   "source": []
  }
 ],
 "metadata": {
  "kernelspec": {
   "display_name": "Python 3 (ipykernel)",
   "language": "python",
   "name": "python3"
  },
  "language_info": {
   "codemirror_mode": {
    "name": "ipython",
    "version": 3
   },
   "file_extension": ".py",
   "mimetype": "text/x-python",
   "name": "python",
   "nbconvert_exporter": "python",
   "pygments_lexer": "ipython3",
   "version": "3.11.7"
  }
 },
 "nbformat": 4,
 "nbformat_minor": 5
}
