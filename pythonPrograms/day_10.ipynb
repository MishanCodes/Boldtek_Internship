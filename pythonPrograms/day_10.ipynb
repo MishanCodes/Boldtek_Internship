{
 "cells": [
  {
   "cell_type": "code",
   "execution_count": 1,
   "id": "90b075a1-736a-4295-9793-bdf8828f19ca",
   "metadata": {},
   "outputs": [
    {
     "name": "stdout",
     "output_type": "stream",
     "text": [
      "Sorted array: [11, 12, 22, 25, 64]\n"
     ]
    }
   ],
   "source": [
    "# Selection Sort Implementation\n",
    "def selection_sort(arr):\n",
    "    n = len(arr)\n",
    "    for i in range(n):\n",
    "        min_idx = i\n",
    "        for j in range(i+1, n):\n",
    "            if arr[j] < arr[min_idx]:\n",
    "                min_idx = j\n",
    "        arr[i], arr[min_idx] = arr[min_idx], arr[i]\n",
    "    return arr\n",
    "\n",
    "my_list = [64, 25, 12, 22, 11]\n",
    "sorted_list = selection_sort(my_list)\n",
    "print(\"Sorted array:\", sorted_list)"
   ]
  },
  {
   "cell_type": "code",
   "execution_count": 2,
   "id": "9245ecc5-1019-4d96-a87d-30d4ed01f40a",
   "metadata": {},
   "outputs": [
    {
     "name": "stdout",
     "output_type": "stream",
     "text": [
      "Top three elements: [99, 88, 45]\n"
     ]
    }
   ],
   "source": [
    "# Find Top 3 Largest Elements\n",
    "def find_top_three(arr):\n",
    "    if len(arr) < 3:\n",
    "        return \"List needs at least 3 elements\"\n",
    "    \n",
    "    first = second = third = float('-inf')\n",
    "    for num in arr:\n",
    "        if num > first:\n",
    "            third = second\n",
    "            second = first\n",
    "            first = num\n",
    "        elif num > second and num != first:\n",
    "            third = second\n",
    "            second = num\n",
    "        elif num > third and num != second and num != first:\n",
    "            third = num\n",
    "    \n",
    "    return [first, second, third]\n",
    "\n",
    "numbers = [10, 4, 45, 99, 32, 88, 12]\n",
    "top_three = find_top_three(numbers)\n",
    "print(\"Top three elements:\", top_three)"
   ]
  },
  {
   "cell_type": "code",
   "execution_count": 3,
   "id": "5c55f3f1-9797-4458-9ccb-f126c41eebad",
   "metadata": {},
   "outputs": [
    {
     "name": "stdout",
     "output_type": "stream",
     "text": [
      "Dictionary sorted by keys: {'apple': 10, 'banana': 5, 'grapes': 15, 'orange': 20}\n"
     ]
    }
   ],
   "source": [
    "# Sort Dictionary by Keys\n",
    "def sort_dict_by_keys(d):\n",
    "    sorted_keys = []\n",
    "    for key in d:\n",
    "        sorted_keys.append(key)\n",
    "    \n",
    "    n = len(sorted_keys)\n",
    "    for i in range(n):\n",
    "        for j in range(0, n-i-1):\n",
    "            if sorted_keys[j] > sorted_keys[j+1]:\n",
    "                sorted_keys[j], sorted_keys[j+1] = sorted_keys[j+1], sorted_keys[j]\n",
    "    \n",
    "    sorted_dict = {}\n",
    "    for key in sorted_keys:\n",
    "        sorted_dict[key] = d[key]\n",
    "    \n",
    "    return sorted_dict\n",
    "\n",
    "my_dict = {'apple': 10, 'banana': 5, 'orange': 20, 'grapes': 15}\n",
    "sorted_dict = sort_dict_by_keys(my_dict)\n",
    "print(\"Dictionary sorted by keys:\", sorted_dict)"
   ]
  },
  {
   "cell_type": "code",
   "execution_count": 4,
   "id": "a473b1de-e661-4113-b68f-4043a06d2390",
   "metadata": {},
   "outputs": [
    {
     "name": "stdout",
     "output_type": "stream",
     "text": [
      "List after removing duplicates: [1, 2, 3, 4, 5, 6]\n"
     ]
    }
   ],
   "source": [
    "# Remove Duplicates from List\n",
    "def remove_duplicates(arr):\n",
    "    unique_list = []\n",
    "    for item in arr:\n",
    "        if item not in unique_list:\n",
    "            unique_list.append(item)\n",
    "    return unique_list\n",
    "\n",
    "my_list = [1, 2, 3, 1, 2, 4, 5, 4, 6, 2]\n",
    "result = remove_duplicates(my_list)\n",
    "print(\"List after removing duplicates:\", result)"
   ]
  },
  {
   "cell_type": "code",
   "execution_count": 5,
   "id": "576db993-740a-4384-84cb-d9e8f3639fbc",
   "metadata": {},
   "outputs": [
    {
     "name": "stdout",
     "output_type": "stream",
     "text": [
      "Sorted sentence: a great is language programming Python\n"
     ]
    }
   ],
   "source": [
    "# Sort Words in a Sentence\n",
    "def sort_words(sentence):\n",
    "    words = sentence.split()\n",
    "    \n",
    "    n = len(words)\n",
    "    for i in range(n):\n",
    "        for j in range(0, n-i-1):\n",
    "            if words[j].lower() > words[j+1].lower():\n",
    "                words[j], words[j+1] = words[j+1], words[j]\n",
    "    \n",
    "    sorted_sentence = \" \".join(words)\n",
    "    return sorted_sentence\n",
    "\n",
    "text = \"Python is a great programming language\"\n",
    "sorted_text = sort_words(text)\n",
    "print(\"Sorted sentence:\", sorted_text)"
   ]
  },
  {
   "cell_type": "code",
   "execution_count": null,
   "id": "8463bb8b-6577-4de8-97a3-66b5bba27299",
   "metadata": {},
   "outputs": [],
   "source": []
  }
 ],
 "metadata": {
  "kernelspec": {
   "display_name": "Python 3 (ipykernel)",
   "language": "python",
   "name": "python3"
  },
  "language_info": {
   "codemirror_mode": {
    "name": "ipython",
    "version": 3
   },
   "file_extension": ".py",
   "mimetype": "text/x-python",
   "name": "python",
   "nbconvert_exporter": "python",
   "pygments_lexer": "ipython3",
   "version": "3.11.7"
  }
 },
 "nbformat": 4,
 "nbformat_minor": 5
}
