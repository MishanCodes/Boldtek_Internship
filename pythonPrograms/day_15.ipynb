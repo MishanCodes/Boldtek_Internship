{
 "cells": [
  {
   "cell_type": "code",
   "execution_count": 5,
   "id": "4145fb09-565e-4489-88de-18b5554e8e54",
   "metadata": {},
   "outputs": [
    {
     "name": "stdout",
     "output_type": "stream",
     "text": [
      "Sorted array: [0.23, 0.25, 0.32, 0.42, 0.47, 0.51, 0.52]\n"
     ]
    }
   ],
   "source": [
    "# Bucket Sort Implementation\n",
    "def bucket_sort(arr):\n",
    "    if not arr:\n",
    "        return []\n",
    "    \n",
    "    max_val = max(arr)\n",
    "    size = max_val / len(arr)\n",
    "    \n",
    "    buckets = [[] for _ in range(len(arr) + 1)]\n",
    "    \n",
    "    for i in range(len(arr)):\n",
    "        j = int(arr[i] / size)\n",
    "        if j != len(arr):\n",
    "            buckets[j].append(arr[i])\n",
    "        else:\n",
    "            buckets[len(arr) - 1].append(arr[i])\n",
    "    \n",
    "    for i in range(len(arr)):\n",
    "        buckets[i] = sorted(buckets[i])\n",
    "    \n",
    "    result = []\n",
    "    for i in range(len(arr)):\n",
    "        result = result + buckets[i]\n",
    "    \n",
    "    return result\n",
    "\n",
    "my_list = [0.42, 0.32, 0.23, 0.52, 0.25, 0.47, 0.51]\n",
    "sorted_list = bucket_sort(my_list)\n",
    "print(\"Sorted array:\", sorted_list)"
   ]
  },
  {
   "cell_type": "code",
   "execution_count": 6,
   "id": "9ffa9a79-cc69-4c76-988c-ae1433366a78",
   "metadata": {},
   "outputs": [
    {
     "name": "stdout",
     "output_type": "stream",
     "text": [
      "Sorted dates: ['15-01-2022', '20-12-2022', '05-03-2023', '10-05-2023']\n"
     ]
    }
   ],
   "source": [
    "# Sort List of Dates\n",
    "def sort_dates(dates):\n",
    "    for i in range(len(dates)):\n",
    "        for j in range(0, len(dates)-i-1):\n",
    "            day1, month1, year1 = map(int, dates[j].split('-'))\n",
    "            day2, month2, year2 = map(int, dates[j+1].split('-'))\n",
    "            \n",
    "            if year1 > year2:\n",
    "                dates[j], dates[j+1] = dates[j+1], dates[j]\n",
    "            elif year1 == year2 and month1 > month2:\n",
    "                dates[j], dates[j+1] = dates[j+1], dates[j]\n",
    "            elif year1 == year2 and month1 == month2 and day1 > day2:\n",
    "                dates[j], dates[j+1] = dates[j+1], dates[j]\n",
    "    \n",
    "    return dates\n",
    "\n",
    "date_list = [\"10-05-2023\", \"15-01-2022\", \"05-03-2023\", \"20-12-2022\"]\n",
    "sorted_dates = sort_dates(date_list)\n",
    "print(\"Sorted dates:\", sorted_dates)"
   ]
  },
  {
   "cell_type": "code",
   "execution_count": 7,
   "id": "69a870ea-5f9a-426b-aacf-224feead119a",
   "metadata": {},
   "outputs": [
    {
     "name": "stdout",
     "output_type": "stream",
     "text": [
      "Pairs with sum 10: [(1, 9), (7, 3), (2, 8)]\n"
     ]
    }
   ],
   "source": [
    "# Find Pairs with Given Sum\n",
    "def find_sum_pairs(arr, target_sum):\n",
    "    pairs = []\n",
    "    seen = set()\n",
    "    \n",
    "    for num in arr:\n",
    "        complement = target_sum - num\n",
    "        if complement in seen:\n",
    "            pairs.append((complement, num))\n",
    "        seen.add(num)\n",
    "    \n",
    "    return pairs\n",
    "\n",
    "numbers = [1, 5, 7, 2, 9, 3, 8]\n",
    "target = 10\n",
    "sum_pairs = find_sum_pairs(numbers, target)\n",
    "print(f\"Pairs with sum {target}:\", sum_pairs)"
   ]
  },
  {
   "cell_type": "code",
   "execution_count": 8,
   "id": "aea6b994-b36a-427c-9acd-969299b4617f",
   "metadata": {},
   "outputs": [
    {
     "name": "stdout",
     "output_type": "stream",
     "text": [
      "Sorted by last character: ['banana', 'apple', 'orange', 'kiwi', 'pear']\n"
     ]
    }
   ],
   "source": [
    "# Sort Based on Last Character of String\n",
    "def sort_by_last_char(strings):\n",
    "    n = len(strings)\n",
    "    for i in range(n):\n",
    "        for j in range(0, n-i-1):\n",
    "            if strings[j][-1] > strings[j+1][-1]:\n",
    "                strings[j], strings[j+1] = strings[j+1], strings[j]\n",
    "    \n",
    "    return strings\n",
    "\n",
    "word_list = [\"apple\", \"banana\", \"pear\", \"orange\", \"kiwi\"]\n",
    "last_char_sorted = sort_by_last_char(word_list)\n",
    "print(\"Sorted by last character:\", last_char_sorted)"
   ]
  },
  {
   "cell_type": "code",
   "execution_count": 9,
   "id": "5baffca3-9bd0-4529-a16a-ab414167f4e8",
   "metadata": {},
   "outputs": [
    {
     "name": "stdout",
     "output_type": "stream",
     "text": [
      "Triplets with zero sum: [[-1, -1, 2], [-1, 0, 1]]\n"
     ]
    }
   ],
   "source": [
    "# Find Triple with Zero Sum\n",
    "def find_zero_sum_triplets(arr):\n",
    "    n = len(arr)\n",
    "    sorted_arr = sorted(arr)\n",
    "    triplets = []\n",
    "    \n",
    "    for i in range(n-2):\n",
    "        if i > 0 and sorted_arr[i] == sorted_arr[i-1]:\n",
    "            continue\n",
    "        \n",
    "        left = i + 1\n",
    "        right = n - 1\n",
    "        \n",
    "        while left < right:\n",
    "            current_sum = sorted_arr[i] + sorted_arr[left] + sorted_arr[right]\n",
    "            \n",
    "            if current_sum == 0:\n",
    "                triplets.append([sorted_arr[i], sorted_arr[left], sorted_arr[right]])\n",
    "                \n",
    "                while left < right and sorted_arr[left] == sorted_arr[left+1]:\n",
    "                    left += 1\n",
    "                while left < right and sorted_arr[right] == sorted_arr[right-1]:\n",
    "                    right -= 1\n",
    "                \n",
    "                left += 1\n",
    "                right -= 1\n",
    "            elif current_sum < 0:\n",
    "                left += 1\n",
    "            else:\n",
    "                right -= 1\n",
    "    \n",
    "    return triplets\n",
    "\n",
    "numbers = [-1, 0, 1, 2, -1, -4]\n",
    "triplets = find_zero_sum_triplets(numbers)\n",
    "print(\"Triplets with zero sum:\", triplets)"
   ]
  },
  {
   "cell_type": "code",
   "execution_count": null,
   "id": "8d5adc37-5298-4c44-94ce-2bca6cd3cc01",
   "metadata": {},
   "outputs": [],
   "source": []
  }
 ],
 "metadata": {
  "kernelspec": {
   "display_name": "Python 3 (ipykernel)",
   "language": "python",
   "name": "python3"
  },
  "language_info": {
   "codemirror_mode": {
    "name": "ipython",
    "version": 3
   },
   "file_extension": ".py",
   "mimetype": "text/x-python",
   "name": "python",
   "nbconvert_exporter": "python",
   "pygments_lexer": "ipython3",
   "version": "3.11.7"
  }
 },
 "nbformat": 4,
 "nbformat_minor": 5
}
