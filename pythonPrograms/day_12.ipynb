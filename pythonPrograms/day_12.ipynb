{
 "cells": [
  {
   "cell_type": "code",
   "execution_count": 1,
   "id": "46d545b5-5d28-4c1b-a493-8101c84f3a36",
   "metadata": {},
   "outputs": [
    {
     "name": "stdout",
     "output_type": "stream",
     "text": [
      "Sorted array: [1, 2, 9, 1, 5, 6]\n"
     ]
    }
   ],
   "source": [
    "# Count Sort Implementation\n",
    "def count_sort(arr):\n",
    "    max_element = max(arr)\n",
    "    min_element = min(arr)\n",
    "    range_of_elements = max_element - min_element + 1\n",
    "    \n",
    "    count_arr = [0 for _ in range(range_of_elements)]\n",
    "    output_arr = [0 for _ in range(len(arr))]\n",
    "    \n",
    "    for i in range(0, len(arr)):\n",
    "        count_arr[arr[i] - min_element] += 1\n",
    "    \n",
    "    for i in range(1, len(count_arr)):\n",
    "        count_arr[i] += count_arr[i - 1]\n",
    "    \n",
    "    for i in range(len(arr) - 1, -1, -1):\n",
    "        output_arr[count_arr[arr[i] - min_element] - 1] = arr[i]\n",
    "        count_arr[arr[i] - min_element] -= 1\n",
    "    \n",
    "    for i in range(0, len(arr)):\n",
    "        arr[i] = output_arr[i]\n",
    "        return arr\n",
    "\n",
    "my_list = [5, 2, 9, 1, 5, 6]\n",
    "sorted_list = count_sort(my_list)\n",
    "print(\"Sorted array:\", sorted_list)\n"
   ]
  },
  {
   "cell_type": "code",
   "execution_count": null,
   "id": "aafbebed-7399-4aaa-8c11-b96a0ed955c7",
   "metadata": {},
   "outputs": [],
   "source": []
  }
 ],
 "metadata": {
  "kernelspec": {
   "display_name": "Python 3 (ipykernel)",
   "language": "python",
   "name": "python3"
  },
  "language_info": {
   "codemirror_mode": {
    "name": "ipython",
    "version": 3
   },
   "file_extension": ".py",
   "mimetype": "text/x-python",
   "name": "python",
   "nbconvert_exporter": "python",
   "pygments_lexer": "ipython3",
   "version": "3.11.7"
  }
 },
 "nbformat": 4,
 "nbformat_minor": 5
}
