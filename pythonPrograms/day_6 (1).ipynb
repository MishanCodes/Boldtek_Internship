{
 "cells": [
  {
   "cell_type": "markdown",
   "id": "4e85cf38-2afb-4b88-b22c-e90a52fd8164",
   "metadata": {},
   "source": [
    "1.Find the Sum of All Prime Numbers in a Range"
   ]
  },
  {
   "cell_type": "code",
   "execution_count": 8,
   "id": "26ca0383-f06c-4486-83ac-796cff882a0a",
   "metadata": {},
   "outputs": [
    {
     "name": "stdin",
     "output_type": "stream",
     "text": [
      "Enter the range (start_num end_num):  1 10\n"
     ]
    },
    {
     "name": "stdout",
     "output_type": "stream",
     "text": [
      "Sum of prime numbers: 17\n"
     ]
    }
   ],
   "source": [
    "start_num, end_num = map(int, input(\"Enter the range (start_num end_num): \").split())\n",
    "sum_primes = 0  \n",
    "\n",
    "for num in range(start_num, end_num + 1):\n",
    "    if num < 2:\n",
    "        continue  \n",
    "    \n",
    "    for i in range(2, num): \n",
    "        if num % i == 0:\n",
    "            break  \n",
    "    else:\n",
    "        sum_primes += num  \n",
    "\n",
    "print(\"Sum of prime numbers:\", sum_primes)\n"
   ]
  },
  {
   "cell_type": "markdown",
   "id": "3ed0d2e1-b2fc-428b-94ad-f99ef4d1be12",
   "metadata": {},
   "source": [
    "2. Find the Most Frequent Character in a String"
   ]
  },
  {
   "cell_type": "code",
   "execution_count": 9,
   "id": "7dadb15f-5a99-4821-a324-b4598df0d24f",
   "metadata": {},
   "outputs": [
    {
     "name": "stdin",
     "output_type": "stream",
     "text": [
      "enter string:  banana\n"
     ]
    },
    {
     "name": "stdout",
     "output_type": "stream",
     "text": [
      "Most frequent character: a\n"
     ]
    }
   ],
   "source": [
    "text  = input(\"enter string: \")\n",
    "freq = {}\n",
    "max_char =''\n",
    "max_count=0\n",
    "\n",
    "for char in text:\n",
    "    if char in freq:\n",
    "        freq[char]+=1\n",
    "    else:\n",
    "        freq[char] =1\n",
    "for char in freq:\n",
    "    if freq[char]  > max_count:\n",
    "        max_count = freq[char]\n",
    "        max_char = char\n",
    "print(\"Most frequent character:\", max_char)"
   ]
  },
  {
   "cell_type": "markdown",
   "id": "52901d69-e8e2-41dd-a44e-81803729b8c0",
   "metadata": {},
   "source": [
    "3. Check if Two Strings are Rotations of Each Other"
   ]
  },
  {
   "cell_type": "code",
   "execution_count": 10,
   "id": "18dea5e1-5dd6-417a-9b91-73ca9e3ca923",
   "metadata": {},
   "outputs": [
    {
     "name": "stdin",
     "output_type": "stream",
     "text": [
      "enter the first string:  waterbottle\n",
      "enter the second string:  erbottlewat\n"
     ]
    },
    {
     "name": "stdout",
     "output_type": "stream",
     "text": [
      "are rotations\n"
     ]
    }
   ],
   "source": [
    "text1 = input(\"enter the first string: \")\n",
    "text2 = input(\"enter the second string: \")\n",
    "\n",
    "if len(text1) != len(text2):\n",
    "    print(\"two strings are not equal, so are not rotations \")\n",
    "elif text2 in text1+text2:\n",
    "    print(\"are rotations\")\n",
    "else:\n",
    "    print(\"not rotations\")\n",
    "    "
   ]
  },
  {
   "cell_type": "markdown",
   "id": "b9a4c0af-a089-4dc7-8960-fe2cb4335ef7",
   "metadata": {},
   "source": [
    "4.  Implement Binary Search"
   ]
  },
  {
   "cell_type": "code",
   "execution_count": 11,
   "id": "3d35e1dc-ec8e-45af-ae57-9a387ec9bbae",
   "metadata": {},
   "outputs": [
    {
     "name": "stdin",
     "output_type": "stream",
     "text": [
      "Enter sorted numbers:  1 2 3 45 66\n",
      "Enter target number:  3\n"
     ]
    },
    {
     "name": "stdout",
     "output_type": "stream",
     "text": [
      "Element found at index: 2\n"
     ]
    }
   ],
   "source": [
    "def binary_search(arr, target):\n",
    "    left, right = 0, len(arr) - 1\n",
    "    while left <= right:\n",
    "        mid = (left + right) // 2\n",
    "        if arr[mid] == target:\n",
    "            return mid\n",
    "        elif arr[mid] < target:\n",
    "            left = mid + 1\n",
    "        else:\n",
    "            right = mid - 1\n",
    "    return -1\n",
    "\n",
    "arr = sorted(list(map(int, input(\"Enter sorted numbers: \").split())))\n",
    "target = int(input(\"Enter target number: \"))\n",
    "index = binary_search(arr, target)\n",
    "\n",
    "if index != -1:\n",
    "    print(\"Element found at index:\", index)\n",
    "else:\n",
    "    print(\"Element not found.\")\n"
   ]
  },
  {
   "cell_type": "markdown",
   "id": "67a279ff-b875-4a3a-b67c-73e5bf7ca631",
   "metadata": {},
   "source": [
    "5. Second largest element in an array "
   ]
  },
  {
   "cell_type": "code",
   "execution_count": 1,
   "id": "70801eee-1fd0-45c0-9300-314e15e1e050",
   "metadata": {},
   "outputs": [
    {
     "name": "stdin",
     "output_type": "stream",
     "text": [
      "Enter numbers:  56 76\n"
     ]
    },
    {
     "name": "stdout",
     "output_type": "stream",
     "text": [
      "Second largest number: 56\n"
     ]
    }
   ],
   "source": [
    "arr = list(map(int, input(\"Enter numbers: \").split()))  \n",
    "first = second = -999999  \n",
    "\n",
    "for num in arr:  \n",
    "    if num > first:  \n",
    "        second = first \n",
    "        first = num  \n",
    "    elif num > second and num != first:  \n",
    "        second = num  \n",
    "\n",
    "if second == -999999:  \n",
    "    print(\"No second largest number\")  \n",
    "else:  \n",
    "    print(\"Second largest number:\", second)  \n"
   ]
  },
  {
   "cell_type": "code",
   "execution_count": null,
   "id": "6f865af9-8410-4d11-8fd9-150a755e705a",
   "metadata": {},
   "outputs": [],
   "source": []
  }
 ],
 "metadata": {
  "kernelspec": {
   "display_name": "Python 3 (ipykernel)",
   "language": "python",
   "name": "python3"
  },
  "language_info": {
   "codemirror_mode": {
    "name": "ipython",
    "version": 3
   },
   "file_extension": ".py",
   "mimetype": "text/x-python",
   "name": "python",
   "nbconvert_exporter": "python",
   "pygments_lexer": "ipython3",
   "version": "3.11.7"
  }
 },
 "nbformat": 4,
 "nbformat_minor": 5
}
