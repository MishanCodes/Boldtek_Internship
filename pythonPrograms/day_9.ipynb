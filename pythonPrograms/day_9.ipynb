{
 "cells": [
  {
   "cell_type": "code",
   "execution_count": 1,
   "id": "4398fd30-cb7d-43ba-ba6d-31743d94d707",
   "metadata": {},
   "outputs": [
    {
     "name": "stdout",
     "output_type": "stream",
     "text": [
      "Sorted array: [11, 12, 22, 25, 34, 64, 90]\n"
     ]
    }
   ],
   "source": [
    "# Bubble Sort Implementation\n",
    "def bubble_sort(arr):\n",
    "    n = len(arr)\n",
    "    for i in range(n):\n",
    "        for j in range(0, n-i-1):\n",
    "            if arr[j] > arr[j+1]:\n",
    "                arr[j], arr[j+1] = arr[j+1], arr[j]\n",
    "    return arr\n",
    "\n",
    "my_list = [64, 34, 25, 12, 22, 11, 90]\n",
    "sorted_list = bubble_sort(my_list)\n",
    "print(\"Sorted array:\", sorted_list)"
   ]
  },
  {
   "cell_type": "code",
   "execution_count": 2,
   "id": "9aeba358-41e6-4c87-bda7-58c96720aa50",
   "metadata": {},
   "outputs": [
    {
     "name": "stdout",
     "output_type": "stream",
     "text": [
      "Second largest element: 45\n"
     ]
    }
   ],
   "source": [
    "# Find Second Largest Element in a List\n",
    "def find_second_largest(arr):\n",
    "    if len(arr) < 2:\n",
    "        return \"List needs at least 2 elements\"\n",
    "    largest = second_largest = float('-inf')\n",
    "    for num in arr:\n",
    "        if num > largest:\n",
    "            second_largest = largest\n",
    "            largest = num\n",
    "        elif num > second_largest and num != largest:\n",
    "            second_largest = num\n",
    "    return second_largest\n",
    "\n",
    "numbers = [10, 20, 4, 45, 99, 32]\n",
    "result = find_second_largest(numbers)\n",
    "print(\"Second largest element:\", result)"
   ]
  },
  {
   "cell_type": "code",
   "execution_count": 3,
   "id": "5061e9c9-5cc5-421f-a0ed-ad4176ac7e1b",
   "metadata": {},
   "outputs": [
    {
     "name": "stdout",
     "output_type": "stream",
     "text": [
      "Frequency of elements: {1: 5, 5: 3, 3: 3, 4: 3}\n"
     ]
    }
   ],
   "source": [
    "# Count Frequency of Elements in List\n",
    "def count_frequency(arr):\n",
    "    freq = {}\n",
    "    for item in arr:\n",
    "        if item in freq:\n",
    "            freq[item] += 1\n",
    "        else:\n",
    "            freq[item] = 1\n",
    "    return freq\n",
    "\n",
    "my_list = [1, 1, 1, 5, 5, 3, 1, 3, 3, 1, 4, 4, 4, 5]\n",
    "frequency = count_frequency(my_list)\n",
    "print(\"Frequency of elements:\", frequency)"
   ]
  },
  {
   "cell_type": "code",
   "execution_count": 4,
   "id": "3048689d-9491-49b1-90e6-e7bb1d5ca8ab",
   "metadata": {},
   "outputs": [
    {
     "name": "stdout",
     "output_type": "stream",
     "text": [
      "Sorted based on second element: [(3, 1), (9, 2), (5, 3), (4, 4), (1, 5)]\n"
     ]
    }
   ],
   "source": [
    "# Sort a List Based on Second Element of Tuples\n",
    "def sort_by_second_element(tup_list):\n",
    "    n = len(tup_list)\n",
    "    for i in range(n):\n",
    "        for j in range(0, n-i-1):\n",
    "            if tup_list[j][1] > tup_list[j+1][1]:\n",
    "                tup_list[j], tup_list[j+1] = tup_list[j+1], tup_list[j]\n",
    "    return tup_list\n",
    "\n",
    "pairs = [(1, 5), (9, 2), (3, 1), (4, 4), (5, 3)]\n",
    "sorted_pairs = sort_by_second_element(pairs)\n",
    "print(\"Sorted based on second element:\", sorted_pairs)"
   ]
  },
  {
   "cell_type": "code",
   "execution_count": 5,
   "id": "d3f89d70-dcc3-4370-b25f-995c79a30cfd",
   "metadata": {},
   "outputs": [
    {
     "name": "stdout",
     "output_type": "stream",
     "text": [
      "Merged sorted list: [1, 2, 3, 4, 5, 6, 7, 8, 10]\n"
     ]
    }
   ],
   "source": [
    "# Merge Two Sorted Lists\n",
    "def merge_sorted_lists(list1, list2):\n",
    "    merged_list = []\n",
    "    i = j = 0\n",
    "    \n",
    "    while i < len(list1) and j < len(list2):\n",
    "        if list1[i] <= list2[j]:\n",
    "            merged_list.append(list1[i])\n",
    "            i += 1\n",
    "        else:\n",
    "            merged_list.append(list2[j])\n",
    "            j += 1\n",
    "    \n",
    "    while i < len(list1):\n",
    "        merged_list.append(list1[i])\n",
    "        i += 1\n",
    "        \n",
    "    while j < len(list2):\n",
    "        merged_list.append(list2[j])\n",
    "        j += 1\n",
    "        \n",
    "    return merged_list\n",
    "\n",
    "list1 = [1, 3, 5, 7]\n",
    "list2 = [2, 4, 6, 8, 10]\n",
    "result = merge_sorted_lists(list1, list2)\n",
    "print(\"Merged sorted list:\", result)"
   ]
  },
  {
   "cell_type": "code",
   "execution_count": null,
   "id": "8f8fa39d-ae7a-436f-b735-fbff7670a904",
   "metadata": {},
   "outputs": [],
   "source": []
  }
 ],
 "metadata": {
  "kernelspec": {
   "display_name": "Python 3 (ipykernel)",
   "language": "python",
   "name": "python3"
  },
  "language_info": {
   "codemirror_mode": {
    "name": "ipython",
    "version": 3
   },
   "file_extension": ".py",
   "mimetype": "text/x-python",
   "name": "python",
   "nbconvert_exporter": "python",
   "pygments_lexer": "ipython3",
   "version": "3.11.7"
  }
 },
 "nbformat": 4,
 "nbformat_minor": 5
}
