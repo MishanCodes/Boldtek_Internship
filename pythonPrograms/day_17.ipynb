{
 "cells": [
  {
   "cell_type": "code",
   "execution_count": 1,
   "id": "64adf0d9-cdce-40ae-ab36-462ea14be718",
   "metadata": {},
   "outputs": [
    {
     "name": "stdout",
     "output_type": "stream",
     "text": [
      "Sorted array: [1, 3, 4, 5, 6, 7, 8, 9]\n"
     ]
    }
   ],
   "source": [
    "# Shell Sort Implementation\n",
    "def shell_sort(arr):\n",
    "    n = len(arr)\n",
    "    gap = n // 2\n",
    "    \n",
    "    while gap > 0:\n",
    "        for i in range(gap, n):\n",
    "            temp = arr[i]\n",
    "            j = i\n",
    "            \n",
    "            while j >= gap and arr[j - gap] > temp:\n",
    "                arr[j] = arr[j - gap]\n",
    "                j -= gap\n",
    "            \n",
    "            arr[j] = temp\n",
    "        \n",
    "        gap //= 2\n",
    "    \n",
    "    return arr\n",
    "\n",
    "my_list = [9, 8, 3, 7, 5, 6, 4, 1]\n",
    "sorted_list = shell_sort(my_list)\n",
    "print(\"Sorted array:\", sorted_list)"
   ]
  },
  {
   "cell_type": "code",
   "execution_count": 2,
   "id": "07afe1c9-4f1e-4275-bcf5-b561c93b8484",
   "metadata": {},
   "outputs": [
    {
     "name": "stdout",
     "output_type": "stream",
     "text": [
      "String sorted by character frequency: rrggmmpoain\n"
     ]
    }
   ],
   "source": [
    "# Sort String by Frequency of Characters\n",
    "def sort_by_char_frequency(s):\n",
    "    char_freq = {}\n",
    "    \n",
    "    for char in s:\n",
    "        if char in char_freq:\n",
    "            char_freq[char] += 1\n",
    "        else:\n",
    "            char_freq[char] = 1\n",
    "    \n",
    "    items = list(char_freq.items())\n",
    "    \n",
    "    n = len(items)\n",
    "    for i in range(n):\n",
    "        for j in range(0, n-i-1):\n",
    "            if items[j][1] < items[j+1][1]:\n",
    "                items[j], items[j+1] = items[j+1], items[j]\n",
    "    \n",
    "    result = \"\"\n",
    "    for char, freq in items:\n",
    "        result += char * freq\n",
    "    \n",
    "    return result\n",
    "\n",
    "text = \"programming\"\n",
    "freq_sorted = sort_by_char_frequency(text)\n",
    "print(\"String sorted by character frequency:\", freq_sorted)"
   ]
  },
  {
   "cell_type": "code",
   "execution_count": null,
   "id": "9fdba8b6-a1c5-4f57-b700-6b7e485f1d1c",
   "metadata": {},
   "outputs": [],
   "source": [
    "# Find K Most Frequent Elements\n",
    "def k_most_frequent(arr, k):\n",
    "    freq = {}\n",
    "    \n",
    "    for num in arr:\n",
    "        if num in freq:\n",
    "            freq[num] += 1\n",
    "        else:\n",
    "            freq[num] = 1\n",
    "    \n",
    "    items = list(freq.items())\n",
    "    \n",
    "    n = len(items)\n",
    "    for i in range(n):\n",
    "        for j in range(0, n-i-1):\n",
    "            if items[j][1] < items[j+1][1]:\n",
    "                items[j], items[j+1] = items[j+1], items[j]\n",
    "    \n",
    "    result = []\n",
    "    for i in range(k):\n",
    "        if i < len(items):\n",
    "            result.append(items[i][0])\n",
    "    \n",
    "    return result\n",
    "\n",
    "numbers = [1, 1, 1, 2, 2, 3, 3, 3, 3, 4]\n",
    "k = 2\n",
    "most_frequent = k_most_frequent(numbers, k)\n",
    "print(f\"{k} most frequent elements:\", most_frequent)"
   ]
  }
 ],
 "metadata": {
  "kernelspec": {
   "display_name": "Python 3 (ipykernel)",
   "language": "python",
   "name": "python3"
  },
  "language_info": {
   "codemirror_mode": {
    "name": "ipython",
    "version": 3
   },
   "file_extension": ".py",
   "mimetype": "text/x-python",
   "name": "python",
   "nbconvert_exporter": "python",
   "pygments_lexer": "ipython3",
   "version": "3.11.7"
  }
 },
 "nbformat": 4,
 "nbformat_minor": 5
}
