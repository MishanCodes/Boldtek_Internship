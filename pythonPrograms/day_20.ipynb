{
 "cells": [
  {
   "cell_type": "code",
   "execution_count": 1,
   "id": "b2fc9449-5d8f-4ee6-b6ec-3bae90aa84b9",
   "metadata": {},
   "outputs": [
    {
     "name": "stdout",
     "output_type": "stream",
     "text": [
      "Sorted array: [1, 2, 3, 5, 7, 8]\n"
     ]
    }
   ],
   "source": [
    "\n",
    "# Cycle Sort Implementation\n",
    "def cycle_sort(arr):\n",
    "    n = len(arr)\n",
    "    \n",
    "    for cycle_start in range(n - 1):\n",
    "        item = arr[cycle_start]\n",
    "        pos = cycle_start\n",
    "        \n",
    "        for i in range(cycle_start + 1, n):\n",
    "            if arr[i] < item:\n",
    "                pos += 1\n",
    "        \n",
    "        if pos == cycle_start:\n",
    "            continue\n",
    "        \n",
    "        while item == arr[pos]:\n",
    "            pos += 1\n",
    "        \n",
    "        arr[pos], item = item, arr[pos]\n",
    "        \n",
    "        while pos != cycle_start:\n",
    "            pos = cycle_start\n",
    "            \n",
    "            for i in range(cycle_start + 1, n):\n",
    "                if arr[i] < item:\n",
    "                    pos += 1\n",
    "            \n",
    "            while item == arr[pos]:\n",
    "                pos += 1\n",
    "            \n",
    "            arr[pos], item = item, arr[pos]\n",
    "    \n",
    "    return arr\n",
    "\n",
    "my_list = [5, 2, 7, 8, 1, 3]\n",
    "sorted_list = cycle_sort(my_list)\n",
    "print(\"Sorted array:\", sorted_list)"
   ]
  },
  {
   "cell_type": "code",
   "execution_count": 2,
   "id": "a8bc2823-418c-4422-8bf5-819535e69ff3",
   "metadata": {},
   "outputs": [
    {
     "name": "stdout",
     "output_type": "stream",
     "text": [
      "Sorted by number of set bits: [7, 3, 5, 6, 2, 4, 8]\n"
     ]
    }
   ],
   "source": [
    "# Sort By Number of Set Bits\n",
    "def count_set_bits(num):\n",
    "    count = 0\n",
    "    while num:\n",
    "        count += num & 1\n",
    "        num >>= 1\n",
    "    return count\n",
    "\n",
    "def sort_by_set_bits(arr):\n",
    "    n = len(arr)\n",
    "    \n",
    "    for i in range(n):\n",
    "        for j in range(0, n-i-1):\n",
    "            bits_j = count_set_bits(arr[j])\n",
    "            bits_j1 = count_set_bits(arr[j+1])\n",
    "            \n",
    "            if bits_j < bits_j1 or (bits_j == bits_j1 and arr[j] > arr[j+1]):\n",
    "                arr[j], arr[j+1] = arr[j+1], arr[j]\n",
    "    \n",
    "    return arr\n",
    "\n",
    "numbers = [7, 8, 6, 5, 2, 3, 4]\n",
    "sorted_by_bits = sort_by_set_bits(numbers)\n",
    "print(\"Sorted by number of set bits:\", sorted_by_bits)"
   ]
  },
  {
   "cell_type": "code",
   "execution_count": 3,
   "id": "9b64171d-010b-4f96-903b-3d77e23ade98",
   "metadata": {},
   "outputs": [
    {
     "name": "stdout",
     "output_type": "stream",
     "text": [
      "Sorted squares: [0, 1, 9, 16, 100]\n"
     ]
    }
   ],
   "source": [
    "# Sort Array After Converting Elements to Square\n",
    "def sort_by_squares(arr):\n",
    "    squared = [num ** 2 for num in arr]\n",
    "    \n",
    "    n = len(squared)\n",
    "    for i in range(n):\n",
    "        for j in range(0, n-i-1):\n",
    "            if squared[j] > squared[j+1]:\n",
    "                squared[j], squared[j+1] = squared[j+1], squared[j]\n",
    "    \n",
    "    return squared\n",
    "\n",
    "numbers = [-4, -1, 0, 3, 10]\n",
    "squared_sorted = sort_by_squares(numbers)\n",
    "print(\"Sorted squares:\", squared_sorted)"
   ]
  },
  {
   "cell_type": "code",
   "execution_count": 4,
   "id": "5fcebb06-0ce2-4195-bc30-4afc925c86d8",
   "metadata": {},
   "outputs": [
    {
     "name": "stdout",
     "output_type": "stream",
     "text": [
      "Sorted array of 0s, 1s, and 2s: [0, 0, 0, 0, 0, 1, 1, 1, 1, 2, 2, 2]\n"
     ]
    }
   ],
   "source": [
    "# Sort Array of 0s, 1s, and 2s (Dutch National Flag)\n",
    "def sort_012(arr):\n",
    "    low = 0\n",
    "    mid = 0\n",
    "    high = len(arr) - 1\n",
    "    \n",
    "    while mid <= high:\n",
    "        if arr[mid] == 0:\n",
    "            arr[low], arr[mid] = arr[mid], arr[low]\n",
    "            low += 1\n",
    "            mid += 1\n",
    "        elif arr[mid] == 1:\n",
    "            mid += 1\n",
    "        else:  # arr[mid] == 2\n",
    "            arr[mid], arr[high] = arr[high], arr[mid]\n",
    "            high -= 1\n",
    "    \n",
    "    return arr\n",
    "\n",
    "array_012 = [0, 1, 2, 0, 1, 2, 1, 0, 0, 2, 1, 0]\n",
    "sorted_012 = sort_012(array_012)\n",
    "print(\"Sorted array of 0s, 1s, and 2s:\", sorted_012)"
   ]
  },
  {
   "cell_type": "code",
   "execution_count": 5,
   "id": "e22d87dd-8a93-4a2e-af6d-2d2c32b023c0",
   "metadata": {},
   "outputs": [
    {
     "name": "stdout",
     "output_type": "stream",
     "text": [
      "Maximum product subarray: 48\n"
     ]
    }
   ],
   "source": [
    "# Find Maximum Product Subarray\n",
    "def max_product_subarray(arr):\n",
    "    n = len(arr)\n",
    "    \n",
    "    if n == 0:\n",
    "        return 0\n",
    "    \n",
    "    max_so_far = arr[0]\n",
    "    min_so_far = arr[0]\n",
    "    result = max_so_far\n",
    "    \n",
    "    for i in range(1, n):\n",
    "        temp_max = max(arr[i], max_so_far * arr[i], min_so_far * arr[i])\n",
    "        min_so_far = min(arr[i], max_so_far * arr[i], min_so_far * arr[i])\n",
    "        max_so_far = temp_max\n",
    "        \n",
    "        result = max(result, max_so_far)\n",
    "    \n",
    "    return result\n",
    "\n",
    "numbers = [2, 3, -2, 4, -1]\n",
    "max_product = max_product_subarray(numbers)\n",
    "print(\"Maximum product subarray:\", max_product)"
   ]
  },
  {
   "cell_type": "code",
   "execution_count": null,
   "id": "a260c46d-9265-4841-b6d6-c2bd6e5d607a",
   "metadata": {},
   "outputs": [],
   "source": []
  }
 ],
 "metadata": {
  "kernelspec": {
   "display_name": "Python 3 (ipykernel)",
   "language": "python",
   "name": "python3"
  },
  "language_info": {
   "codemirror_mode": {
    "name": "ipython",
    "version": 3
   },
   "file_extension": ".py",
   "mimetype": "text/x-python",
   "name": "python",
   "nbconvert_exporter": "python",
   "pygments_lexer": "ipython3",
   "version": "3.11.7"
  }
 },
 "nbformat": 4,
 "nbformat_minor": 5
}
