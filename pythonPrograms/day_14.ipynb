{
 "cells": [
  {
   "cell_type": "code",
   "execution_count": 1,
   "id": "ef9ab5da-ffc3-463d-803e-5d8f0166fb2d",
   "metadata": {},
   "outputs": [
    {
     "name": "stdout",
     "output_type": "stream",
     "text": [
      "Sorted array: [3, 9, 10, 27, 38, 43, 82]\n"
     ]
    }
   ],
   "source": [
    "# Merge Sort Implementation\n",
    "def merge_sort(arr):\n",
    "    if len(arr) > 1:\n",
    "        mid = len(arr) // 2\n",
    "        L = arr[:mid]\n",
    "        R = arr[mid:]\n",
    "        \n",
    "        merge_sort(L)\n",
    "        merge_sort(R)\n",
    "        \n",
    "        i = j = k = 0\n",
    "        \n",
    "        while i < len(L) and j < len(R):\n",
    "            if L[i] < R[j]:\n",
    "                arr[k] = L[i]\n",
    "                i += 1\n",
    "            else:\n",
    "                arr[k] = R[j]\n",
    "                j += 1\n",
    "            k += 1\n",
    "        \n",
    "        while i < len(L):\n",
    "            arr[k] = L[i]\n",
    "            i += 1\n",
    "            k += 1\n",
    "        \n",
    "        while j < len(R):\n",
    "            arr[k] = R[j]\n",
    "            j += 1\n",
    "            k += 1\n",
    "    \n",
    "    return arr\n",
    "\n",
    "my_list = [38, 27, 43, 3, 9, 82, 10]\n",
    "sorted_list = merge_sort(my_list)\n",
    "print(\"Sorted array:\", sorted_list)"
   ]
  },
  {
   "cell_type": "code",
   "execution_count": 2,
   "id": "f530acca-c4ea-41b6-bab1-89f60b589d55",
   "metadata": {},
   "outputs": [
    {
     "name": "stdout",
     "output_type": "stream",
     "text": [
      "Median of two sorted arrays: 4.5\n"
     ]
    }
   ],
   "source": [
    "# Find Median of Two Sorted Arrays\n",
    "def find_median(arr1, arr2):\n",
    "    merged = []\n",
    "    i = j = 0\n",
    "    \n",
    "    while i < len(arr1) and j < len(arr2):\n",
    "        if arr1[i] <= arr2[j]:\n",
    "            merged.append(arr1[i])\n",
    "            i += 1\n",
    "        else:\n",
    "            merged.append(arr2[j])\n",
    "            j += 1\n",
    "    \n",
    "    merged.extend(arr1[i:])\n",
    "    merged.extend(arr2[j:])\n",
    "    n = len(merged)\n",
    "    if n % 2 == 0:\n",
    "        return (merged[n//2 - 1] + merged[n//2]) / 2\n",
    "    else:\n",
    "        return merged[n//2]\n",
    "\n",
    "array1 = [1, 3, 5, 7]\n",
    "array2 = [2, 4, 6, 8]\n",
    "median = find_median(array1, array2)\n",
    "print(\"Median of two sorted arrays:\", median)"
   ]
  },
  {
   "cell_type": "code",
   "execution_count": 3,
   "id": "27ae33ee-0d7b-4b5b-b859-3299241ebd0a",
   "metadata": {},
   "outputs": [
    {
     "name": "stdout",
     "output_type": "stream",
     "text": [
      "Students sorted by grade:\n",
      "Bob: 92\n",
      "David: 90\n",
      "Alice: 85\n",
      "Charlie: 78\n"
     ]
    }
   ],
   "source": [
    "# Sort Students by Grade\n",
    "def sort_students_by_grade(students):\n",
    "    n = len(students)\n",
    "    for i in range(n):\n",
    "        for j in range(0, n-i-1):\n",
    "            if students[j][1] < students[j+1][1]:\n",
    "                students[j], students[j+1] = students[j+1], students[j]\n",
    "    \n",
    "    return students\n",
    "\n",
    "students = [\n",
    "    [\"Alice\", 85],\n",
    "    [\"Bob\", 92],\n",
    "    [\"Charlie\", 78],\n",
    "    [\"David\", 90]\n",
    "]\n",
    "sorted_students = sort_students_by_grade(students)\n",
    "print(\"Students sorted by grade:\")\n",
    "for student in sorted_students:\n",
    "    print(f\"{student[0]}: {student[1]}\")"
   ]
  },
  {
   "cell_type": "code",
   "execution_count": 4,
   "id": "b7d3307c-0bab-4289-b3d9-a886830da28d",
   "metadata": {},
   "outputs": [
    {
     "name": "stdout",
     "output_type": "stream",
     "text": [
      "Common elements: [20, 80]\n"
     ]
    }
   ],
   "source": [
    "# Find Common Elements in Three Sorted Arrays\n",
    "def find_common_elements(arr1, arr2, arr3):\n",
    "    common = []\n",
    "    i = j = k = 0\n",
    "    \n",
    "    while i < len(arr1) and j < len(arr2) and k < len(arr3):\n",
    "        if arr1[i] == arr2[j] == arr3[k]:\n",
    "            if not common or common[-1] != arr1[i]:\n",
    "                common.append(arr1[i])\n",
    "            i += 1\n",
    "            j += 1\n",
    "            k += 1\n",
    "        elif arr1[i] <= arr2[j] and arr1[i] <= arr3[k]:\n",
    "            i += 1\n",
    "        elif arr2[j] <= arr1[i] and arr2[j] <= arr3[k]:\n",
    "            j += 1\n",
    "        else:\n",
    "            k += 1\n",
    "    \n",
    "    return common\n",
    "\n",
    "array1 = [1, 5, 10, 20, 40, 80]\n",
    "array2 = [6, 7, 20, 80, 100]\n",
    "array3 = [3, 4, 15, 20, 30, 70, 80, 120]\n",
    "common = find_common_elements(array1, array2, array3)\n",
    "print(\"Common elements:\", common)"
   ]
  },
  {
   "cell_type": "code",
   "execution_count": 5,
   "id": "7a51c651-02b5-4b34-a36d-1b591f5ce1b0",
   "metadata": {},
   "outputs": [
    {
     "name": "stdout",
     "output_type": "stream",
     "text": [
      "After separating positive and negative: [-3, -2, -8, -6, 5, 10, 7, 9]\n"
     ]
    }
   ],
   "source": [
    "# Separate Positive and Negative Numbers\n",
    "def separate_positive_negative(arr):\n",
    "    n = len(arr)\n",
    "    j = 0\n",
    "    \n",
    "    for i in range(n):\n",
    "        if arr[i] < 0:\n",
    "            if i != j:\n",
    "                arr[i], arr[j] = arr[j], arr[i]\n",
    "            j += 1\n",
    "    \n",
    "    return arr\n",
    "\n",
    "numbers = [9, -3, 5, -2, -8, 10, 7, -6]\n",
    "separated = separate_positive_negative(numbers)\n",
    "print(\"After separating positive and negative:\", separated)"
   ]
  },
  {
   "cell_type": "code",
   "execution_count": null,
   "id": "db171976-2ced-4651-859f-51a31f31518a",
   "metadata": {},
   "outputs": [],
   "source": []
  }
 ],
 "metadata": {
  "kernelspec": {
   "display_name": "Python 3 (ipykernel)",
   "language": "python",
   "name": "python3"
  },
  "language_info": {
   "codemirror_mode": {
    "name": "ipython",
    "version": 3
   },
   "file_extension": ".py",
   "mimetype": "text/x-python",
   "name": "python",
   "nbconvert_exporter": "python",
   "pygments_lexer": "ipython3",
   "version": "3.11.7"
  }
 },
 "nbformat": 4,
 "nbformat_minor": 5
}
