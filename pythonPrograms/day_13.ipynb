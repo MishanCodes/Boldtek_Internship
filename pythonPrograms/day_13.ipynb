{
 "cells": [
  {
   "cell_type": "code",
   "execution_count": 1,
   "id": "03d6a960-4845-468a-8354-d17384c337f4",
   "metadata": {},
   "outputs": [
    {
     "name": "stdout",
     "output_type": "stream",
     "text": [
      "Sorted array: [1, 5, 7, 8, 9, 10]\n"
     ]
    }
   ],
   "source": [
    "# Quick Sort Implementation (Simplified)\n",
    "def quick_sort(arr):\n",
    "    if len(arr) <= 1:\n",
    "        return arr\n",
    "    \n",
    "    pivot = arr[len(arr) // 2]\n",
    "    left = []\n",
    "    middle = []\n",
    "    right = []\n",
    "    \n",
    "    for x in arr:\n",
    "        if x < pivot:\n",
    "            left.append(x)\n",
    "        elif x == pivot:\n",
    "            middle.append(x)\n",
    "        else:\n",
    "            right.append(x)\n",
    "    \n",
    "    return quick_sort(left) + middle + quick_sort(right)\n",
    "\n",
    "my_list = [10, 7, 8, 9, 1, 5]\n",
    "sorted_list = quick_sort(my_list)\n",
    "print(\"Sorted array:\", sorted_list)"
   ]
  },
  {
   "cell_type": "code",
   "execution_count": 2,
   "id": "4d66b8b3-d97b-4d73-befc-77a1cfa9909a",
   "metadata": {},
   "outputs": [
    {
     "name": "stdout",
     "output_type": "stream",
     "text": [
      "Closest pair to target sum: [1, 30]\n"
     ]
    }
   ],
   "source": [
    "# Find Closest Pair from Two Sorted Arrays\n",
    "def find_closest_pair(arr1, arr2, target):\n",
    "    i = 0\n",
    "    j = len(arr2) - 1\n",
    "    closest_diff = float('inf')\n",
    "    result_pair = [0, 0]\n",
    "    \n",
    "    while i < len(arr1) and j >= 0:\n",
    "        current_diff = abs(arr1[i] + arr2[j] - target)\n",
    "        \n",
    "        if current_diff < closest_diff:\n",
    "            closest_diff = current_diff\n",
    "            result_pair = [arr1[i], arr2[j]]\n",
    "        \n",
    "        if arr1[i] + arr2[j] < target:\n",
    "            i += 1\n",
    "        else:\n",
    "            j -= 1\n",
    "    \n",
    "    return result_pair\n",
    "\n",
    "array1 = [1, 4, 5, 7]\n",
    "array2 = [10, 20, 30, 40]\n",
    "target_sum = 32\n",
    "closest_pair = find_closest_pair(array1, array2, target_sum)\n",
    "print(\"Closest pair to target sum:\", closest_pair)"
   ]
  },
  {
   "cell_type": "code",
   "execution_count": 3,
   "id": "68ec591f-90b9-4f47-90bd-2677dd095f16",
   "metadata": {},
   "outputs": [
    {
     "name": "stdout",
     "output_type": "stream",
     "text": [
      "Sorted string: hnopty\n"
     ]
    }
   ],
   "source": [
    "# Sort Characters in a String\n",
    "def sort_string(s):\n",
    "    chars = list(s)\n",
    "    \n",
    "    n = len(chars)\n",
    "    for i in range(n):\n",
    "        for j in range(0, n-i-1):\n",
    "            if chars[j] > chars[j+1]:\n",
    "                chars[j], chars[j+1] = chars[j+1], chars[j]\n",
    "    \n",
    "    return ''.join(chars)\n",
    "\n",
    "text = \"python\"\n",
    "sorted_text = sort_string(text)\n",
    "print(\"Sorted string:\", sorted_text)"
   ]
  },
  {
   "cell_type": "code",
   "execution_count": 4,
   "id": "2b14493f-5e2e-483e-872f-6aac6a557013",
   "metadata": {},
   "outputs": [
    {
     "name": "stdout",
     "output_type": "stream",
     "text": [
      "Sorted nearly sorted array: [1, 2, 3, 4, 5, 6, 7]\n"
     ]
    }
   ],
   "source": [
    "# Sort a Nearly Sorted Array\n",
    "def sort_nearly_sorted(arr, k):\n",
    "    n = len(arr)\n",
    "    \n",
    "    for i in range(1, n):\n",
    "        key = arr[i]\n",
    "        j = i - 1\n",
    "        \n",
    "        while j >= 0 and key < arr[j] and j >= i - k:\n",
    "            arr[j + 1] = arr[j]\n",
    "            j -= 1\n",
    "        \n",
    "        arr[j + 1] = key\n",
    "    \n",
    "    return arr\n",
    "\n",
    "almost_sorted = [2, 1, 3, 5, 4, 7, 6]\n",
    "k = 1  # Each element is at most k positions from its sorted position\n",
    "sorted_nearly = sort_nearly_sorted(almost_sorted, k)\n",
    "print(\"Sorted nearly sorted array:\", sorted_nearly)"
   ]
  },
  {
   "cell_type": "code",
   "execution_count": 5,
   "id": "a37a8ef9-3d17-43d7-94dc-5975a5f9cba8",
   "metadata": {},
   "outputs": [
    {
     "name": "stdout",
     "output_type": "stream",
     "text": [
      "Matrix with sorted rows:\n",
      "[1, 2, 5, 9]\n",
      "[3, 4, 6, 8]\n",
      "[0, 2, 3, 7]\n"
     ]
    }
   ],
   "source": [
    "# Sort Matrix Rows\n",
    "def sort_matrix_rows(matrix):\n",
    "    for i in range(len(matrix)):\n",
    "        n = len(matrix[i])\n",
    "        for j in range(n):\n",
    "            for k in range(0, n-j-1):\n",
    "                if matrix[i][k] > matrix[i][k+1]:\n",
    "                    matrix[i][k], matrix[i][k+1] = matrix[i][k+1], matrix[i][k]\n",
    "    \n",
    "    return matrix\n",
    "\n",
    "mat = [\n",
    "    [5, 2, 9, 1],\n",
    "    [8, 3, 6, 4],\n",
    "    [7, 0, 3, 2]\n",
    "]\n",
    "sorted_mat = sort_matrix_rows(mat)\n",
    "print(\"Matrix with sorted rows:\")\n",
    "for row in sorted_mat:\n",
    "    print(row)"
   ]
  },
  {
   "cell_type": "code",
   "execution_count": null,
   "id": "64b32729-86af-4527-a715-55a06dd9dcf1",
   "metadata": {},
   "outputs": [],
   "source": []
  }
 ],
 "metadata": {
  "kernelspec": {
   "display_name": "Python 3 (ipykernel)",
   "language": "python",
   "name": "python3"
  },
  "language_info": {
   "codemirror_mode": {
    "name": "ipython",
    "version": 3
   },
   "file_extension": ".py",
   "mimetype": "text/x-python",
   "name": "python",
   "nbconvert_exporter": "python",
   "pygments_lexer": "ipython3",
   "version": "3.11.7"
  }
 },
 "nbformat": 4,
 "nbformat_minor": 5
}
