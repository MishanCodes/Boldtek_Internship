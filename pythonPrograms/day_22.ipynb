{
 "cells": [
  {
   "cell_type": "code",
   "execution_count": 1,
   "id": "c1600cf1-0ac0-42f8-b85f-758d98ab5cd5",
   "metadata": {},
   "outputs": [
    {
     "name": "stdout",
     "output_type": "stream",
     "text": [
      "Sorted array: [-44, -6, 0, 1, 3, 4, 8, 23, 28, 56]\n"
     ]
    }
   ],
   "source": [
    "# Comb Sort Implementation\n",
    "def comb_sort(arr):\n",
    "    n = len(arr)\n",
    "    gap = n\n",
    "    shrink = 1.3\n",
    "    sorted = False\n",
    "    \n",
    "    while not sorted:\n",
    "        gap = int(gap / shrink)\n",
    "        if gap <= 1:\n",
    "            gap = 1\n",
    "            sorted = True\n",
    "        \n",
    "        i = 0\n",
    "        while i + gap < n:\n",
    "            if arr[i] > arr[i + gap]:\n",
    "                arr[i], arr[i + gap] = arr[i + gap], arr[i]\n",
    "                sorted = False\n",
    "            i += 1\n",
    "    \n",
    "    return arr\n",
    "\n",
    "my_list = [8, 4, 1, 56, 3, -44, 23, -6, 28, 0]\n",
    "sorted_list = comb_sort(my_list)\n",
    "print(\"Sorted array:\", sorted_list)"
   ]
  },
  {
   "cell_type": "code",
   "execution_count": 2,
   "id": "3869a9b2-651b-46b5-a03e-65d676b27169",
   "metadata": {},
   "outputs": [
    {
     "name": "stdout",
     "output_type": "stream",
     "text": [
      "Peak element index: 2\n"
     ]
    }
   ],
   "source": [
    "# Find Peak Element\n",
    "def find_peak_element(arr):\n",
    "    n = len(arr)\n",
    "    \n",
    "    if n == 1:\n",
    "        return 0\n",
    "    \n",
    "    if arr[0] >= arr[1]:\n",
    "        return 0\n",
    "    \n",
    "    if arr[n - 1] >= arr[n - 2]:\n",
    "        return n - 1\n",
    "    \n",
    "    for i in range(1, n - 1):\n",
    "        if arr[i] >= arr[i - 1] and arr[i] >= arr[i + 1]:\n",
    "            return i\n",
    "    \n",
    "    return -1\n",
    "\n",
    "numbers = [1, 3, 20, 4, 1, 0]\n",
    "peak_idx = find_peak_element(numbers)\n",
    "print(\"Peak element index:\", peak_idx)"
   ]
  },
  {
   "cell_type": "code",
   "execution_count": 3,
   "id": "0b4741d3-fdc3-4af1-96af-17164810a214",
   "metadata": {},
   "outputs": [
    {
     "name": "stdout",
     "output_type": "stream",
     "text": [
      "Sorted by case: abcsABCD\n"
     ]
    }
   ],
   "source": [
    "# Sort Characters by Case\n",
    "def sort_by_case(s):\n",
    "    upper = []\n",
    "    lower = []\n",
    "    \n",
    "    for char in s:\n",
    "        if char.isupper():\n",
    "            upper.append(char)\n",
    "        else:\n",
    "            lower.append(char)\n",
    "    \n",
    "    n = len(upper)\n",
    "    for i in range(n):\n",
    "        for j in range(0, n-i-1):\n",
    "            if upper[j] > upper[j+1]:\n",
    "                upper[j], upper[j+1] = upper[j+1], upper[j]\n",
    "    \n",
    "    n = len(lower)\n",
    "    for i in range(n):\n",
    "        for j in range(0, n-i-1):\n",
    "            if lower[j] > lower[j+1]:\n",
    "                lower[j], lower[j+1] = lower[j+1], lower[j]\n",
    "    \n",
    "    return ''.join(lower + upper)\n",
    "\n",
    "text = \"DsAaBbCc\"\n",
    "case_sorted = sort_by_case(text)\n",
    "print(\"Sorted by case:\", case_sorted)"
   ]
  },
  {
   "cell_type": "code",
   "execution_count": null,
   "id": "4b75c24e-c3ea-42d5-8e7f-e151f277e8c6",
   "metadata": {},
   "outputs": [],
   "source": []
  }
 ],
 "metadata": {
  "kernelspec": {
   "display_name": "Python 3 (ipykernel)",
   "language": "python",
   "name": "python3"
  },
  "language_info": {
   "codemirror_mode": {
    "name": "ipython",
    "version": 3
   },
   "file_extension": ".py",
   "mimetype": "text/x-python",
   "name": "python",
   "nbconvert_exporter": "python",
   "pygments_lexer": "ipython3",
   "version": "3.11.7"
  }
 },
 "nbformat": 4,
 "nbformat_minor": 5
}
