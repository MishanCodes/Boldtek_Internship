{
 "cells": [
  {
   "cell_type": "markdown",
   "id": "63d2d927-f620-4380-a0ae-4e8f5e607e1a",
   "metadata": {},
   "source": [
    "1.Find All Duplicates in a List"
   ]
  },
  {
   "cell_type": "code",
   "execution_count": 2,
   "id": "6c9c754b-57ed-4fa2-8c54-ecccdd47a2f1",
   "metadata": {},
   "outputs": [
    {
     "name": "stdin",
     "output_type": "stream",
     "text": [
      "Enter numbers:  1 2 3 4 1 5\n"
     ]
    },
    {
     "name": "stdout",
     "output_type": "stream",
     "text": [
      "Duplicates: [1]\n"
     ]
    }
   ],
   "source": [
    "arr = list(map(int, input(\"Enter numbers: \").split()))\n",
    "duplicates = []\n",
    "\n",
    "for num in arr:\n",
    "    if arr.count(num) > 1 and num not in duplicates:\n",
    "        duplicates.append(num)\n",
    "\n",
    "print(\"Duplicates:\", duplicates)\n"
   ]
  },
  {
   "cell_type": "markdown",
   "id": "81d0e630-7194-40ed-94d4-359bb83ee4fd",
   "metadata": {},
   "source": [
    "2. Find Missing Number in a Sequence"
   ]
  },
  {
   "cell_type": "code",
   "execution_count": 3,
   "id": "89b72462-ad23-4e3b-a0ac-9b4652783a94",
   "metadata": {},
   "outputs": [
    {
     "name": "stdin",
     "output_type": "stream",
     "text": [
      "Enter numbers:  1 2 3  4 5 7\n"
     ]
    },
    {
     "name": "stdout",
     "output_type": "stream",
     "text": [
      "Missing number: 6\n"
     ]
    }
   ],
   "source": [
    "arr = list(map(int, input(\"Enter numbers: \").split()))\n",
    "n = len(arr) + 1 \n",
    "expected_sum = n * (n + 1) // 2\n",
    "actual_sum = sum(arr)\n",
    "\n",
    "print(\"Missing number:\", expected_sum - actual_sum)\n"
   ]
  },
  {
   "cell_type": "markdown",
   "id": "913582e3-6fea-47a4-a360-f8e8f329f9b1",
   "metadata": {},
   "source": [
    "3. Perfect number"
   ]
  },
  {
   "cell_type": "code",
   "execution_count": 5,
   "id": "c67118c5-a2a2-4d3e-ae07-7647ec148b11",
   "metadata": {},
   "outputs": [
    {
     "name": "stdin",
     "output_type": "stream",
     "text": [
      "Enter a number:  6\n"
     ]
    },
    {
     "name": "stdout",
     "output_type": "stream",
     "text": [
      "6 is a Perfect Number\n"
     ]
    }
   ],
   "source": [
    "num = int(input(\"Enter a number: \"))\n",
    "sum_divisors = 0\n",
    "\n",
    "for i in range(1, num):  \n",
    "    if num % i == 0: \n",
    "        sum_divisors += i  \n",
    "\n",
    "if sum_divisors == num:\n",
    "    print(num, \"is a Perfect Number\")\n",
    "else:\n",
    "    print(num, \"is not a Perfect Number\")\n"
   ]
  },
  {
   "cell_type": "markdown",
   "id": "db9054e5-adba-4a97-aa19-7a6f4ba3194a",
   "metadata": {},
   "source": [
    "4. Find All Pairs That Sum to a Target"
   ]
  },
  {
   "cell_type": "code",
   "execution_count": 6,
   "id": "1aff1837-f90c-4939-aaf4-a4bc08889837",
   "metadata": {},
   "outputs": [
    {
     "name": "stdin",
     "output_type": "stream",
     "text": [
      "Enter numbers:  2 3 5 7 8\n",
      "Enter target sum:  12\n"
     ]
    },
    {
     "name": "stdout",
     "output_type": "stream",
     "text": [
      "Pairs with sum 12 : [(5, 7)]\n"
     ]
    }
   ],
   "source": [
    "arr = list(map(int, input(\"Enter numbers: \").split()))\n",
    "target = int(input(\"Enter target sum: \"))\n",
    "pairs = []\n",
    "\n",
    "for i in range(len(arr)):\n",
    "    for j in range(i + 1, len(arr)):\n",
    "        if arr[i] + arr[j] == target:\n",
    "            pairs.append((arr[i], arr[j]))\n",
    "\n",
    "print(\"Pairs with sum\", target, \":\", pairs)\n"
   ]
  },
  {
   "cell_type": "markdown",
   "id": "8f1e1c97-2a48-41ee-80fa-51b355cc69a1",
   "metadata": {},
   "source": [
    "5. Reverse a String Without Using Slicing "
   ]
  },
  {
   "cell_type": "code",
   "execution_count": 7,
   "id": "e4c3cabe-6e19-49af-b3dc-e0f5748047cc",
   "metadata": {},
   "outputs": [
    {
     "name": "stdin",
     "output_type": "stream",
     "text": [
      "Enter a string:  Mishanraj\n"
     ]
    },
    {
     "name": "stdout",
     "output_type": "stream",
     "text": [
      "Reversed string: jarnahsiM\n"
     ]
    }
   ],
   "source": [
    "text = input(\"Enter a string: \")\n",
    "reversed_text = \"\"\n",
    "\n",
    "for char in text:\n",
    "    reversed_text = char + reversed_text\n",
    "\n",
    "print(\"Reversed string:\", reversed_text)\n"
   ]
  },
  {
   "cell_type": "code",
   "execution_count": null,
   "id": "4de6f0de-0e3b-44f0-a787-ba6a7c0e4dd9",
   "metadata": {},
   "outputs": [],
   "source": []
  }
 ],
 "metadata": {
  "kernelspec": {
   "display_name": "Python 3 (ipykernel)",
   "language": "python",
   "name": "python3"
  },
  "language_info": {
   "codemirror_mode": {
    "name": "ipython",
    "version": 3
   },
   "file_extension": ".py",
   "mimetype": "text/x-python",
   "name": "python",
   "nbconvert_exporter": "python",
   "pygments_lexer": "ipython3",
   "version": "3.11.7"
  }
 },
 "nbformat": 4,
 "nbformat_minor": 5
}
