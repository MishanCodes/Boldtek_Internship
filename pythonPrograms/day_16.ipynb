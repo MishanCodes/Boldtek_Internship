{
 "cells": [
  {
   "cell_type": "code",
   "execution_count": 1,
   "id": "502766ab-9e2c-4c73-ae0e-40e218211831",
   "metadata": {},
   "outputs": [
    {
     "name": "stdout",
     "output_type": "stream",
     "text": [
      "Intersection of arrays: [3, 5, 7]\n"
     ]
    }
   ],
   "source": [
    "# Find Intersection of Multiple Sorted Arrays\n",
    "def find_intersection(arrays):\n",
    "    if not arrays:\n",
    "        return []\n",
    "    \n",
    "    result = set(arrays[0])\n",
    "    \n",
    "    for i in range(1, len(arrays)):\n",
    "        result = result.intersection(set(arrays[i]))\n",
    "    \n",
    "    return list(sorted(result))\n",
    "\n",
    "array_list = [\n",
    "    [1, 3, 4, 5, 7],\n",
    "    [2, 3, 5, 6, 7],\n",
    "    [3, 5, 7, 8, 9]\n",
    "]\n",
    "intersection = find_intersection(array_list)\n",
    "print(\"Intersection of arrays:\", intersection)"
   ]
  },
  {
   "cell_type": "code",
   "execution_count": 2,
   "id": "9fe43d64-034c-448f-9e14-c83e3ee9da71",
   "metadata": {},
   "outputs": [
    {
     "name": "stdout",
     "output_type": "stream",
     "text": [
      "Dictionary sorted by key length: {'a': 1, 'cc': 2, 'bbb': 3, 'dddd': 4}\n"
     ]
    }
   ],
   "source": [
    "# Sort Dictionary by Keys' Length\n",
    "def sort_dict_by_key_length(d):\n",
    "    keys = list(d.keys())\n",
    "    \n",
    "    n = len(keys)\n",
    "    for i in range(n):\n",
    "        for j in range(0, n-i-1):\n",
    "            if len(keys[j]) > len(keys[j+1]):\n",
    "                keys[j], keys[j+1] = keys[j+1], keys[j]\n",
    "    \n",
    "    sorted_dict = {}\n",
    "    for key in keys:\n",
    "        sorted_dict[key] = d[key]\n",
    "    \n",
    "    return sorted_dict\n",
    "\n",
    "my_dict = {\"a\": 1, \"bbb\": 3, \"cc\": 2, \"dddd\": 4}\n",
    "sorted_dict = sort_dict_by_key_length(my_dict)\n",
    "print(\"Dictionary sorted by key length:\", sorted_dict)"
   ]
  },
  {
   "cell_type": "code",
   "execution_count": 3,
   "id": "0230c8cb-54e6-48bb-9988-fb76520ab3f7",
   "metadata": {},
   "outputs": [
    {
     "name": "stdout",
     "output_type": "stream",
     "text": [
      "Sorted array: [5, 6, 7, 11, 12, 13]\n"
     ]
    }
   ],
   "source": [
    "# Heap Sort Implementation\n",
    "def heapify(arr, n, i):\n",
    "    largest = i\n",
    "    left = 2 * i + 1\n",
    "    right = 2 * i + 2\n",
    "    \n",
    "    if left < n and arr[largest] < arr[left]:\n",
    "        largest = left\n",
    "    \n",
    "    if right < n and arr[largest] < arr[right]:\n",
    "        largest = right\n",
    "    \n",
    "    if largest != i:\n",
    "        arr[i], arr[largest] = arr[largest], arr[i]\n",
    "        heapify(arr, n, largest)\n",
    "\n",
    "def heap_sort(arr):\n",
    "    n = len(arr)\n",
    "    \n",
    "    for i in range(n // 2 - 1, -1, -1):\n",
    "        heapify(arr, n, i)\n",
    "    for i in range(n-1, 0, -1):\n",
    "        arr[i], arr[0] = arr[0], arr[i]\n",
    "        heapify(arr, i, 0)\n",
    "    \n",
    "    return arr\n",
    "\n",
    "my_list = [12, 11, 13, 5, 6, 7]\n",
    "sorted_list = heap_sort(my_list)\n",
    "print(\"Sorted array:\", sorted_list)"
   ]
  },
  {
   "cell_type": "code",
   "execution_count": null,
   "id": "99c8562e-dfde-4ce0-97bf-dc5f108bb254",
   "metadata": {},
   "outputs": [],
   "source": []
  }
 ],
 "metadata": {
  "kernelspec": {
   "display_name": "Python 3 (ipykernel)",
   "language": "python",
   "name": "python3"
  },
  "language_info": {
   "codemirror_mode": {
    "name": "ipython",
    "version": 3
   },
   "file_extension": ".py",
   "mimetype": "text/x-python",
   "name": "python",
   "nbconvert_exporter": "python",
   "pygments_lexer": "ipython3",
   "version": "3.11.7"
  }
 },
 "nbformat": 4,
 "nbformat_minor": 5
}
