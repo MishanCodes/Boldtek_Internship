{
 "cells": [
  {
   "cell_type": "code",
   "execution_count": 1,
   "id": "bfef9b1e-f523-4a66-ab03-d677d6728705",
   "metadata": {},
   "outputs": [
    {
     "name": "stdout",
     "output_type": "stream",
     "text": [
      "Sorted array: [2, 24, 45, 66, 75, 90, 170, 802]\n"
     ]
    }
   ],
   "source": [
    "# Radix Sort Implementation\n",
    "def counting_sort(arr, exp):\n",
    "    n = len(arr)\n",
    "    output = [0] * n\n",
    "    count = [0] * 10\n",
    "    \n",
    "    for i in range(n):\n",
    "        index = arr[i] // exp\n",
    "        count[index % 10] += 1\n",
    "    \n",
    "    for i in range(1, 10):\n",
    "        count[i] += count[i - 1]\n",
    "    \n",
    "    i = n - 1\n",
    "    while i >= 0:\n",
    "        index = arr[i] // exp\n",
    "        output[count[index % 10] - 1] = arr[i]\n",
    "        count[index % 10] -= 1\n",
    "        i -= 1\n",
    "    \n",
    "    for i in range(n):\n",
    "        arr[i] = output[i]\n",
    "\n",
    "def radix_sort(arr):\n",
    "    max_val = max(arr)\n",
    "    exp = 1\n",
    "    \n",
    "    while max_val // exp > 0:\n",
    "        counting_sort(arr, exp)\n",
    "        exp *= 10\n",
    "    \n",
    "    return arr\n",
    "\n",
    "my_list = [170, 45, 75, 90, 802, 24, 2, 66]\n",
    "sorted_list = radix_sort(my_list)\n",
    "print(\"Sorted array:\", sorted_list)"
   ]
  },
  {
   "cell_type": "code",
   "execution_count": 2,
   "id": "6cebfd6d-81cf-4dcd-9c81-c8d0df3b22c3",
   "metadata": {},
   "outputs": [
    {
     "name": "stdout",
     "output_type": "stream",
     "text": [
      "Grouped by first occurrence: [5, 5, 5, 3, 3, 3, 1, 1, 4]\n"
     ]
    }
   ],
   "source": [
    "# Group Elements by First Occurrence\n",
    "def group_by_first_occurrence(arr):\n",
    "    result = []\n",
    "    seen = set()\n",
    "    \n",
    "    for num in arr:\n",
    "        if num not in seen:\n",
    "            result.append(num)\n",
    "            seen.add(num)\n",
    "        else:\n",
    "            idx = result.index(num)\n",
    "            result.insert(idx + 1, num)\n",
    "    \n",
    "    return result\n",
    "\n",
    "numbers = [5, 3, 5, 1, 3, 3, 5, 1, 4]\n",
    "grouped = group_by_first_occurrence(numbers)\n",
    "print(\"Grouped by first occurrence:\", grouped)"
   ]
  },
  {
   "cell_type": "code",
   "execution_count": 7,
   "id": "d6d634ae-6f23-4e2d-a5ca-93384c4e9cf2",
   "metadata": {},
   "outputs": [
    {
     "name": "stdout",
     "output_type": "stream",
     "text": [
      "[0, 0, 0, 0, 1, 1, 1, 2, 2, 2]\n"
     ]
    }
   ],
   "source": [
    "# Sort Array with Three Types of Elements\n",
    "def sort_three_types(arr, a, b, c):\n",
    "    result = []\n",
    "    for num in (c, a, b):  # custom order\n",
    "        for item in arr:\n",
    "            if item == num:\n",
    "                result.append(num)\n",
    "    return result\n",
    "\n",
    "a, b, c = 1, 2, 0  # Define a, b, c before using them\n",
    "array = [c, a, b, c, a, c, b, a, b, c]\n",
    "sorted_three = sort_three_types(array, a, b, c)\n",
    "print(sorted_three)\n"
   ]
  },
  {
   "cell_type": "code",
   "execution_count": null,
   "id": "9f2f5ba0-812f-47cd-8d5c-31f42a39d5bc",
   "metadata": {},
   "outputs": [],
   "source": []
  },
  {
   "cell_type": "code",
   "execution_count": 5,
   "id": "459280fa-720e-4ad6-9fe0-0fe00dbf65fe",
   "metadata": {},
   "outputs": [
    {
     "name": "stdout",
     "output_type": "stream",
     "text": [
      "Pair with minimum difference: (17, 19)\n"
     ]
    }
   ],
   "source": [
    "# Find Minimum Difference Pair\n",
    "def min_difference_pair(arr):\n",
    "    n = len(arr)\n",
    "    \n",
    "    if n < 2:\n",
    "        return None\n",
    "    \n",
    "    sorted_arr = sorted(arr)\n",
    "    min_diff = float('inf')\n",
    "    pair = None\n",
    "    \n",
    "    for i in range(1, n):\n",
    "        if sorted_arr[i] - sorted_arr[i - 1] < min_diff:\n",
    "            min_diff = sorted_arr[i] - sorted_arr[i - 1]\n",
    "            pair = (sorted_arr[i - 1], sorted_arr[i])\n",
    "    \n",
    "    return pair\n",
    "\n",
    "numbers = [5, 32, 45, 1, 22, 19, 17]\n",
    "min_diff_pair = min_difference_pair(numbers)\n",
    "print(\"Pair with minimum difference:\", min_diff_pair)"
   ]
  },
  {
   "cell_type": "code",
   "execution_count": 6,
   "id": "84bb40e0-9c41-447f-8f26-19e6d704943d",
   "metadata": {},
   "outputs": [
    {
     "name": "stdout",
     "output_type": "stream",
     "text": [
      "Intervals sorted by start time: [(1, 3), (4, 7), (5, 10), (8, 12)]\n"
     ]
    }
   ],
   "source": [
    "# Sort Intervals by Start Time\n",
    "def sort_intervals(intervals):\n",
    "    n = len(intervals)\n",
    "    \n",
    "    for i in range(n):\n",
    "        for j in range(0, n-i-1):\n",
    "            if intervals[j][0] > intervals[j+1][0]:\n",
    "                intervals[j], intervals[j+1] = intervals[j+1], intervals[j]\n",
    "    \n",
    "    return intervals\n",
    "\n",
    "interval_list = [(5, 10), (1, 3), (8, 12), (4, 7)]\n",
    "sorted_intervals = sort_intervals(interval_list)\n",
    "print(\"Intervals sorted by start time:\", sorted_intervals)"
   ]
  },
  {
   "cell_type": "code",
   "execution_count": null,
   "id": "92b3ed26-c367-4583-b0f9-44dc9ef4c7d7",
   "metadata": {},
   "outputs": [],
   "source": []
  }
 ],
 "metadata": {
  "kernelspec": {
   "display_name": "Python 3 (ipykernel)",
   "language": "python",
   "name": "python3"
  },
  "language_info": {
   "codemirror_mode": {
    "name": "ipython",
    "version": 3
   },
   "file_extension": ".py",
   "mimetype": "text/x-python",
   "name": "python",
   "nbconvert_exporter": "python",
   "pygments_lexer": "ipython3",
   "version": "3.11.7"
  }
 },
 "nbformat": 4,
 "nbformat_minor": 5
}
