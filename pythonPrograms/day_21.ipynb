{
 "cells": [
  {
   "cell_type": "code",
   "execution_count": 1,
   "id": "02b19e0a-58be-4b12-aff2-efac73f962ae",
   "metadata": {},
   "outputs": [
    {
     "name": "stdout",
     "output_type": "stream",
     "text": [
      "Sorted array: [2, 3, 4, 6, 7, 8, 8]\n"
     ]
    }
   ],
   "source": [
    "# Pigeonhole Sort Implementation\n",
    "def pigeonhole_sort(arr):\n",
    "    min_val = min(arr)\n",
    "    max_val = max(arr)\n",
    "    size = max_val - min_val + 1\n",
    "    \n",
    "    holes = [0] * size\n",
    "    \n",
    "    for x in arr:\n",
    "        holes[x - min_val] += 1\n",
    "    \n",
    "    i = 0\n",
    "    for count in range(size):\n",
    "        while holes[count] > 0:\n",
    "            holes[count] -= 1\n",
    "            arr[i] = count + min_val\n",
    "            i += 1\n",
    "    \n",
    "    return arr\n",
    "\n",
    "my_list = [8, 3, 2, 7, 4, 6, 8]\n",
    "sorted_list = pigeonhole_sort(my_list)\n",
    "print(\"Sorted array:\", sorted_list)"
   ]
  },
  {
   "cell_type": "code",
   "execution_count": 2,
   "id": "bb39aafb-8b45-4188-8700-6fc4a357b016",
   "metadata": {},
   "outputs": [
    {
     "name": "stdout",
     "output_type": "stream",
     "text": [
      "Sorted by custom order: [3, 3, 1, 5, 5, 4, 7, 9, 8]\n"
     ]
    }
   ],
   "source": [
    "# Sort Based on Custom Order\n",
    "def sort_by_custom_order(arr, order_arr):\n",
    "    order_dict = {order_arr[i]: i for i in range(len(order_arr))}\n",
    "    \n",
    "    for i in range(len(arr)):\n",
    "        for j in range(0, len(arr)-i-1):\n",
    "            idx1 = order_dict.get(arr[j], float('inf'))\n",
    "            idx2 = order_dict.get(arr[j+1], float('inf'))\n",
    "            \n",
    "            if idx1 > idx2:\n",
    "                arr[j], arr[j+1] = arr[j+1], arr[j]\n",
    "    \n",
    "    return arr\n",
    "\n",
    "array = [5, 8, 9, 3, 5, 7, 1, 3, 4]\n",
    "custom_order = [3, 1, 5, 4, 7, 9, 8]\n",
    "sorted_custom = sort_by_custom_order(array, custom_order)\n",
    "print(\"Sorted by custom order:\", sorted_custom)"
   ]
  },
  {
   "cell_type": "code",
   "execution_count": 3,
   "id": "ee55bba2-e6a5-4c16-824a-5f125f7e569e",
   "metadata": {},
   "outputs": [
    {
     "name": "stdout",
     "output_type": "stream",
     "text": [
      "3th smallest element: 7\n"
     ]
    }
   ],
   "source": [
    "# Find Kth Smallest Element\n",
    "def find_kth_smallest(arr, k):\n",
    "    if k > len(arr) or k <= 0:\n",
    "        return None\n",
    "    \n",
    "    sorted_arr = sorted(arr)\n",
    "    return sorted_arr[k - 1]\n",
    "\n",
    "numbers = [7, 10, 4, 3, 20, 15]\n",
    "k = 3\n",
    "kth_smallest = find_kth_smallest(numbers, k)\n",
    "print(f\"{k}th smallest element:\", kth_smallest)"
   ]
  },
  {
   "cell_type": "code",
   "execution_count": 4,
   "id": "6e02e78a-bd60-4ebc-bd8f-4b9db3c7b2ac",
   "metadata": {},
   "outputs": [
    {
     "name": "stdout",
     "output_type": "stream",
     "text": [
      "Wiggle sorted array: [1, 6, 1, 5, 1, 4]\n"
     ]
    }
   ],
   "source": [
    "# Wiggle Sort\n",
    "def wiggle_sort(arr):\n",
    "    n = len(arr)\n",
    "    sorted_arr = sorted(arr)\n",
    "    \n",
    "    result = [0] * n\n",
    "    \n",
    "    mid = (n - 1) // 2\n",
    "    large = n - 1\n",
    "    \n",
    "    for i in range(n):\n",
    "        if i % 2 == 0:\n",
    "            result[i] = sorted_arr[mid]\n",
    "            mid -= 1\n",
    "        else:\n",
    "            result[i] = sorted_arr[large]\n",
    "            large -= 1\n",
    "    \n",
    "    return result\n",
    "\n",
    "numbers = [1, 5, 1, 1, 6, 4]\n",
    "wiggled = wiggle_sort(numbers)\n",
    "print(\"Wiggle sorted array:\", wiggled)"
   ]
  },
  {
   "cell_type": "code",
   "execution_count": 5,
   "id": "b0afd0cd-2b98-47f1-bf32-036331d8f8e9",
   "metadata": {},
   "outputs": [
    {
     "name": "stdout",
     "output_type": "stream",
     "text": [
      "Even ascending, odd descending: [2, 4, 6, 8, 9, 7, 5, 3, 1]\n"
     ]
    }
   ],
   "source": [
    "# Sort Even Numbers in Ascending, Odd in Descending\n",
    "def sort_even_odd(arr):\n",
    "    even = []\n",
    "    odd = []\n",
    "    \n",
    "    for num in arr:\n",
    "        if num % 2 == 0:\n",
    "            even.append(num)\n",
    "        else:\n",
    "            odd.append(num)\n",
    "    \n",
    "    even.sort()  # Ascending order\n",
    "    odd.sort(reverse=True)  # Descending order\n",
    "    \n",
    "    return even + odd\n",
    "\n",
    "numbers = [1, 2, 3, 4, 5, 6, 7, 8, 9]\n",
    "even_odd_sorted = sort_even_odd(numbers)\n",
    "print(\"Even ascending, odd descending:\", even_odd_sorted)"
   ]
  },
  {
   "cell_type": "code",
   "execution_count": null,
   "id": "bdeaa8a9-05fd-4f4b-9050-0beb686a2ccd",
   "metadata": {},
   "outputs": [],
   "source": []
  }
 ],
 "metadata": {
  "kernelspec": {
   "display_name": "Python 3 (ipykernel)",
   "language": "python",
   "name": "python3"
  },
  "language_info": {
   "codemirror_mode": {
    "name": "ipython",
    "version": 3
   },
   "file_extension": ".py",
   "mimetype": "text/x-python",
   "name": "python",
   "nbconvert_exporter": "python",
   "pygments_lexer": "ipython3",
   "version": "3.11.7"
  }
 },
 "nbformat": 4,
 "nbformat_minor": 5
}
